{
 "cells": [
  {
   "cell_type": "code",
   "execution_count": 1,
   "id": "68ca271c",
   "metadata": {},
   "outputs": [],
   "source": [
    "from pyspark.sql import SparkSession\n",
    "from pyspark.sql.types import DoubleType, FloatType, LongType, StructType,StructField, StringType"
   ]
  },
  {
   "cell_type": "code",
   "execution_count": 2,
   "id": "48884592",
   "metadata": {},
   "outputs": [
    {
     "name": "stdout",
     "output_type": "stream",
     "text": [
      ":: loading settings :: url = jar:file:/opt/spark-3.4.0-bin-hadoop3/jars/ivy-2.5.1.jar!/org/apache/ivy/core/settings/ivysettings.xml\n"
     ]
    },
    {
     "name": "stderr",
     "output_type": "stream",
     "text": [
      "Ivy Default Cache set to: /root/.ivy2/cache\n",
      "The jars for the packages stored in: /root/.ivy2/jars\n",
      "org.apache.iceberg#iceberg-spark-runtime-3.4_2.12 added as a dependency\n",
      ":: resolving dependencies :: org.apache.spark#spark-submit-parent-d76fd9f9-1ef8-4776-93d8-43df040cfdd2;1.0\n",
      "\tconfs: [default]\n",
      "\tfound org.apache.iceberg#iceberg-spark-runtime-3.4_2.12;1.3.0 in central\n",
      ":: resolution report :: resolve 96ms :: artifacts dl 4ms\n",
      "\t:: modules in use:\n",
      "\torg.apache.iceberg#iceberg-spark-runtime-3.4_2.12;1.3.0 from central in [default]\n",
      "\t---------------------------------------------------------------------\n",
      "\t|                  |            modules            ||   artifacts   |\n",
      "\t|       conf       | number| search|dwnlded|evicted|| number|dwnlded|\n",
      "\t---------------------------------------------------------------------\n",
      "\t|      default     |   1   |   0   |   0   |   0   ||   1   |   0   |\n",
      "\t---------------------------------------------------------------------\n",
      ":: retrieving :: org.apache.spark#spark-submit-parent-d76fd9f9-1ef8-4776-93d8-43df040cfdd2\n",
      "\tconfs: [default]\n",
      "\t0 artifacts copied, 1 already retrieved (0kB/7ms)\n",
      "23/07/11 05:26:54 WARN NativeCodeLoader: Unable to load native-hadoop library for your platform... using builtin-java classes where applicable\n",
      "Setting default log level to \"WARN\".\n",
      "To adjust logging level use sc.setLogLevel(newLevel). For SparkR, use setLogLevel(newLevel).\n",
      "23/07/11 05:26:55 WARN Client: Neither spark.yarn.jars nor spark.yarn.archive is set, falling back to uploading libraries under SPARK_HOME.\n",
      "23/07/11 05:27:09 WARN Client: Same path resource file:///root/.ivy2/jars/org.apache.iceberg_iceberg-spark-runtime-3.4_2.12-1.3.0.jar added multiple times to distributed cache.\n"
     ]
    }
   ],
   "source": [
    "spark = SparkSession.builder.appName(\"jupyter_test\") \\\n",
    "    .config(\"spark.master\", \"yarn\") \\\n",
    "    .config(\"spark.jars\",   \"/opt/spark/jars/postgresql-42.6.0.jar\") \\\n",
    "    .config(\"spark.eventLog.enabled\",          \"true\") \\\n",
    "    .config(\"spark.eventLog.dir\",              \"file:///opt/spark/eventLog\") \\\n",
    "    .config(\"spark.history.fs.logDirectory\",   \"file:///opt/spark/eventLog\") \\\n",
    "    .config(\"spark.hadoop.yarn.timeline-service.enabled\", \"false\") \\\n",
    "    .getOrCreate()"
   ]
  },
  {
   "cell_type": "code",
   "execution_count": 16,
   "id": "a8116c45",
   "metadata": {
    "scrolled": false
   },
   "outputs": [
    {
     "name": "stderr",
     "output_type": "stream",
     "text": [
      "\r",
      "[Stage 6:=============================>                             (1 + 1) / 2]\r",
      "\r",
      "                                                                                \r"
     ]
    }
   ],
   "source": [
    "csvDf = spark.read \\\n",
    "    .option(\"header\", True) \\\n",
    "    .csv(\"/games.csv\", inferSchema =True)"
   ]
  },
  {
   "cell_type": "code",
   "execution_count": 17,
   "id": "d084bc7b",
   "metadata": {},
   "outputs": [
    {
     "name": "stdout",
     "output_type": "stream",
     "text": [
      "+------+--------------------+------------+----+-----+-----+---------------+--------------+------------+-----------+--------------+--------+----------+\n",
      "|app_id|               title|date_release| win|  mac|linux|         rating|positive_ratio|user_reviews|price_final|price_original|discount|steam_deck|\n",
      "+------+--------------------+------------+----+-----+-----+---------------+--------------+------------+-----------+--------------+--------+----------+\n",
      "| 13500|Prince of Persia:...|  2008-11-21|true|false|false|  Very Positive|            84|        2199|       9.99|          9.99|     0.0|      true|\n",
      "| 22364|BRINK: Agents of ...|  2011-08-03|true|false|false|       Positive|            85|          21|       2.99|          2.99|     0.0|      true|\n",
      "|113020|Monaco: What's Yo...|  2013-04-24|true| true| true|  Very Positive|            92|        3722|      14.99|         14.99|     0.0|      true|\n",
      "|226560|  Escape Dead Island|  2014-11-18|true|false|false|          Mixed|            61|         873|      14.99|         14.99|     0.0|      true|\n",
      "|249050|Dungeon of the EN...|  2014-10-27|true| true|false|  Very Positive|            88|        8784|      11.99|         11.99|     0.0|      true|\n",
      "|250180|        METAL SLUG 3|  2015-09-14|true|false|false|  Very Positive|            90|        5579|       7.99|          7.99|     0.0|      true|\n",
      "|253980|             Enclave|  2013-10-04|true| true| true|Mostly Positive|            75|        1608|       4.99|          4.99|     0.0|      true|\n",
      "|271850|Men of War: Assau...|  2014-05-16|true|false|false|          Mixed|            61|         199|       6.99|          6.99|     0.0|      true|\n",
      "|282900|Hyperdimension Ne...|  2015-01-29|true|false|false|  Very Positive|            94|        9686|      14.99|         14.99|     0.0|      true|\n",
      "| 19810|The Sum of All Fears|  2008-10-10|true|false|false|Mostly Positive|            75|          33|       9.99|          9.99|     0.0|      true|\n",
      "| 15270|          Cold Fear™|  2008-05-13|true|false|false|  Very Positive|            85|         800|       9.99|          9.99|     0.0|      true|\n",
      "| 21130|LEGO® Harry Potte...|  2010-06-25|true|false|false|  Very Positive|            85|        5169|      19.99|         19.99|     0.0|      true|\n",
      "| 22130|Hearts of Iron 2 ...|  2009-01-23|true|false|false|  Very Positive|            85|         462|      14.99|         14.99|     0.0|      true|\n",
      "| 29180|               Osmos|  2009-08-18|true| true| true|  Very Positive|            88|         532|       9.99|          9.99|     0.0|      true|\n",
      "| 32750|          Comanche 4|  2009-06-18|true|false|false|  Very Positive|            90|         222|       9.99|          9.99|     0.0|      true|\n",
      "|241620|          Inquisitor|  2013-08-01|true|false|false|Mostly Positive|            70|         390|       9.99|          9.99|     0.0|      true|\n",
      "|244910|            Homesick|  2015-05-28|true|false|false|Mostly Positive|            77|        1139|      14.99|         14.99|     0.0|      true|\n",
      "|245950|Borderlands 2: He...|  2014-02-11|true| true| true|  Very Positive|            84|         294|       0.89|          2.99|    70.0|      true|\n",
      "|250460|  Bridge Constructor|  2013-10-16|true| true| true|Mostly Positive|            77|         716|       2.39|         19.99|    88.0|      true|\n",
      "|278890|              Angvik|  2014-02-24|true| true|false|  Very Positive|            88|        1986|       2.99|          2.99|     0.0|      true|\n",
      "+------+--------------------+------------+----+-----+-----+---------------+--------------+------------+-----------+--------------+--------+----------+\n",
      "only showing top 20 rows\n",
      "\n"
     ]
    }
   ],
   "source": [
    "csvDf.show()"
   ]
  },
  {
   "cell_type": "code",
   "execution_count": 21,
   "id": "2ae31a7c",
   "metadata": {},
   "outputs": [
    {
     "name": "stderr",
     "output_type": "stream",
     "text": [
      "                                                                                \r"
     ]
    }
   ],
   "source": [
    "csvDf.write.format(\"jdbc\") \\\n",
    "    .option(\"url\", \"jdbc:postgresql://postgres:5432/postgres\") \\\n",
    "    .option(\"driver\", \"org.postgresql.Driver\") \\\n",
    "    .option(\"dbtable\", \"testuser.games2\") \\\n",
    "    .option(\"user\", \"postgres\") \\\n",
    "    .option(\"password\", \"postgres\") \\\n",
    "    .save()"
   ]
  },
  {
   "cell_type": "code",
   "execution_count": 22,
   "id": "cc1019c0",
   "metadata": {},
   "outputs": [],
   "source": [
    "tableDf = spark.read.format(\"jdbc\") \\\n",
    "    .option(\"url\", \"jdbc:postgresql://postgres:5432/postgres\") \\\n",
    "    .option(\"driver\", \"org.postgresql.Driver\") \\\n",
    "    .option(\"dbtable\", \"testuser.games2\") \\\n",
    "    .option(\"user\", \"postgres\") \\\n",
    "    .option(\"password\", \"postgres\") \\\n",
    "    .load()"
   ]
  },
  {
   "cell_type": "code",
   "execution_count": 23,
   "id": "5a171380",
   "metadata": {},
   "outputs": [
    {
     "name": "stdout",
     "output_type": "stream",
     "text": [
      "+-------+--------------------+------------+----+-----+-----+--------------------+--------------+------------+-----------+--------------+--------+----------+\n",
      "| app_id|               title|date_release| win|  mac|linux|              rating|positive_ratio|user_reviews|price_final|price_original|discount|steam_deck|\n",
      "+-------+--------------------+------------+----+-----+-----+--------------------+--------------+------------+-----------+--------------+--------+----------+\n",
      "| 410900|               Forts|  2017-04-19|true|false|false|       Very Positive|            92|       13063|      14.99|         14.99|     0.0|      true|\n",
      "| 411300|                ELEX|  2017-10-17|true|false|false|     Mostly Positive|            72|       11330|       7.49|         29.99|    75.0|      true|\n",
      "| 411890|   DCS: Persian Gulf|  2018-06-01|true|false|false|       Very Positive|            82|         107|      49.99|         49.99|     0.0|      true|\n",
      "| 411893| DCS: F-14A/B Tomcat|  2019-03-13|true|false|false|       Very Positive|            92|         555|      79.99|         79.99|     0.0|      true|\n",
      "| 411950| DCS: F/A-18C Hornet|  2018-06-01|true|false|false|       Very Positive|            93|         760|      79.99|         79.99|     0.0|      true|\n",
      "| 412020|        Metro Exodus|  2020-02-14|true| true| true|       Very Positive|            89|       78105|      29.99|         29.99|     0.0|      true|\n",
      "| 413150|      Stardew Valley|  2016-02-26|true| true| true|Overwhelmingly Po...|            98|      484711|      14.99|         14.99|     0.0|      true|\n",
      "| 413410|Danganronpa: Trig...|  2016-02-18|true| true| true|Overwhelmingly Po...|            96|       24092|      19.99|         19.99|     0.0|      true|\n",
      "| 413420|Danganronpa 2: Go...|  2016-04-18|true| true| true|Overwhelmingly Po...|            96|       21129|      19.99|         19.99|     0.0|      true|\n",
      "| 414340|Hellblade: Senua'...|  2017-08-07|true|false|false|       Very Positive|            91|       48300|      29.99|         29.99|     0.0|      true|\n",
      "| 414700|           Outlast 2|  2017-04-24|true|false|false|       Very Positive|            91|       36350|      29.99|         29.99|     0.0|      true|\n",
      "| 418030|         Subsistence|  2016-10-25|true|false|false|     Mostly Positive|            73|       10339|      13.99|         13.99|     0.0|      true|\n",
      "| 418240|Shadow Tactics: B...|  2016-12-06|true| true| true|Overwhelmingly Po...|            96|       27116|       3.99|         39.99|    90.0|      true|\n",
      "| 418370|Resident Evil 7 B...|  2017-01-23|true|false|false|Overwhelmingly Po...|            95|       48799|      19.99|         19.99|     0.0|      true|\n",
      "| 418460|Rising Storm 2: V...|  2017-05-30|true|false|false|       Very Positive|            87|       36600|      24.99|         24.99|     0.0|      true|\n",
      "|2303810|Obscurite Magie: ...|  2023-05-12|true|false|false|            Positive|            83|          37|      11.99|         14.99|    20.0|      true|\n",
      "| 418530|          Spelunky 2|  2020-09-29|true|false|false|       Very Positive|            93|       15430|      19.99|         19.99|     0.0|      true|\n",
      "| 420560|Firefighting Simu...|  2020-11-17|true|false|false|       Very Positive|            82|        3483|      14.99|         24.99|    40.0|      true|\n",
      "| 420610|Cities: Skylines ...|  2016-02-18|true| true| true|               Mixed|            62|         793|      12.99|         12.99|     0.0|      true|\n",
      "| 424030|       War of Rights|  2018-12-03|true|false|false|       Very Positive|            87|        8500|      29.99|         29.99|     0.0|      true|\n",
      "+-------+--------------------+------------+----+-----+-----+--------------------+--------------+------------+-----------+--------------+--------+----------+\n",
      "only showing top 20 rows\n",
      "\n"
     ]
    }
   ],
   "source": [
    "tableDf.show()"
   ]
  },
  {
   "cell_type": "code",
   "execution_count": null,
   "id": "afea0824",
   "metadata": {},
   "outputs": [],
   "source": []
  }
 ],
 "metadata": {
  "kernelspec": {
   "display_name": "Python 3 (ipykernel)",
   "language": "python",
   "name": "python3"
  },
  "language_info": {
   "codemirror_mode": {
    "name": "ipython",
    "version": 3
   },
   "file_extension": ".py",
   "mimetype": "text/x-python",
   "name": "python",
   "nbconvert_exporter": "python",
   "pygments_lexer": "ipython3",
   "version": "3.10.12"
  }
 },
 "nbformat": 4,
 "nbformat_minor": 5
}
